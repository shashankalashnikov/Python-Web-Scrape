{
 "cells": [
  {
   "cell_type": "code",
   "execution_count": 1,
   "id": "9f2dddb4",
   "metadata": {},
   "outputs": [],
   "source": [
    "import pandas as pd\n",
    "#import requests\n",
    "from bs4 import BeautifulSoup as bs\n",
    "import urllib.request as ureq"
   ]
  },
  {
   "cell_type": "code",
   "execution_count": 2,
   "id": "ba78b664",
   "metadata": {},
   "outputs": [],
   "source": [
    "def func_scrape(tag, element, element_desc, series_title):\n",
    "    e_list = []\n",
    "    for j in range(1,10):\n",
    "            url_p2 = f'https://www.gumtree.com.au/s-cars-vans-utes/vic/car/page-{j}/k0c18320l3008844?sort=rank'\n",
    "            htmlfile_ = ureq.urlopen(url_p2)\n",
    "            htmltext_= htmlfile_.read()\n",
    "            htmlfile_.close()\n",
    "            soup = bs(htmltext_,'html.parser')\n",
    "            car_title = soup.findAll(tag,{element:element_desc})\n",
    "            for title in car_title:\n",
    "                all_titles = title.text\n",
    "                e_list.append(all_titles)\n",
    "    return pd.Series(e_list, name=series_title)\n",
    "        "
   ]
  },
  {
   "cell_type": "code",
   "execution_count": 3,
   "id": "9674a1f1",
   "metadata": {},
   "outputs": [
    {
     "data": {
      "text/plain": [
       "pandas.core.series.Series"
      ]
     },
     "execution_count": 3,
     "metadata": {},
     "output_type": "execute_result"
    }
   ],
   "source": [
    "title_series = func_scrape('span','class','user-ad-row-new-design__title-span','car_title')\n",
    "type(title_series)"
   ]
  },
  {
   "cell_type": "code",
   "execution_count": 4,
   "id": "ed44e8c2",
   "metadata": {},
   "outputs": [],
   "source": [
    "#Scraping Price\n",
    "price_series = func_scrape('span','class','user-ad-price-new-design__price','car_price')"
   ]
  },
  {
   "cell_type": "code",
   "execution_count": 5,
   "id": "2597c0cb",
   "metadata": {},
   "outputs": [
    {
     "data": {
      "text/plain": [
       "270"
      ]
     },
     "execution_count": 5,
     "metadata": {},
     "output_type": "execute_result"
    }
   ],
   "source": [
    "#Scraping Location\n",
    "loc_series = func_scrape('div','class','user-ad-row-new-design__location','car_location')\n",
    "len(loc_series)"
   ]
  },
  {
   "cell_type": "code",
   "execution_count": 6,
   "id": "dd7fbdef",
   "metadata": {},
   "outputs": [
    {
     "data": {
      "text/plain": [
       "pandas.core.frame.DataFrame"
      ]
     },
     "execution_count": 6,
     "metadata": {},
     "output_type": "execute_result"
    }
   ],
   "source": [
    "DF = pd.concat([title_series, price_series, loc_series], axis=1)\n",
    "type(DF)"
   ]
  },
  {
   "cell_type": "code",
   "execution_count": 7,
   "id": "55b990da",
   "metadata": {},
   "outputs": [
    {
     "data": {
      "text/html": [
       "<div>\n",
       "<style scoped>\n",
       "    .dataframe tbody tr th:only-of-type {\n",
       "        vertical-align: middle;\n",
       "    }\n",
       "\n",
       "    .dataframe tbody tr th {\n",
       "        vertical-align: top;\n",
       "    }\n",
       "\n",
       "    .dataframe thead th {\n",
       "        text-align: right;\n",
       "    }\n",
       "</style>\n",
       "<table border=\"1\" class=\"dataframe\">\n",
       "  <thead>\n",
       "    <tr style=\"text-align: right;\">\n",
       "      <th></th>\n",
       "      <th>car_title</th>\n",
       "      <th>car_price</th>\n",
       "      <th>car_location</th>\n",
       "    </tr>\n",
       "  </thead>\n",
       "  <tbody>\n",
       "    <tr>\n",
       "      <th>0</th>\n",
       "      <td>2019 Nissan X-Trail T32 Series II ST X-tronic ...</td>\n",
       "      <td>$36,968</td>\n",
       "      <td>Berwick, VIC</td>\n",
       "    </tr>\n",
       "    <tr>\n",
       "      <th>1</th>\n",
       "      <td>2017 Holden Commodore ZB MY18 RS Sportwagon Gr...</td>\n",
       "      <td>$27,967</td>\n",
       "      <td>Mornington, VIC</td>\n",
       "    </tr>\n",
       "    <tr>\n",
       "      <th>2</th>\n",
       "      <td>2018 BMW 1 Series F20 LCI-2 118i Steptronic Sp...</td>\n",
       "      <td>$28,464</td>\n",
       "      <td>Elsternwick, VIC</td>\n",
       "    </tr>\n",
       "    <tr>\n",
       "      <th>3</th>\n",
       "      <td>2020 Ford Ranger PX MkIII 2020.75MY Raptor Blu...</td>\n",
       "      <td>$40,968</td>\n",
       "      <td>Ferntree Gully, VIC</td>\n",
       "    </tr>\n",
       "    <tr>\n",
       "      <th>4</th>\n",
       "      <td>2016 Toyota Yaris NCP130R Ascent Blue 4 Speed ...</td>\n",
       "      <td>$17,499</td>\n",
       "      <td>South Geelong, VIC</td>\n",
       "    </tr>\n",
       "    <tr>\n",
       "      <th>5</th>\n",
       "      <td>2019 Mazda 3 BP2H7A G20 SKYACTIV-Drive Touring...</td>\n",
       "      <td>$11,999</td>\n",
       "      <td>South Geelong, VIC</td>\n",
       "    </tr>\n",
       "    <tr>\n",
       "      <th>6</th>\n",
       "      <td>Perfect family car.  2016 VW Multivan tdi340 c...</td>\n",
       "      <td>$32,997</td>\n",
       "      <td>Delacombe, VIC</td>\n",
       "    </tr>\n",
       "    <tr>\n",
       "      <th>7</th>\n",
       "      <td>Wanted: CASH FOR CARS: CARS WANTED</td>\n",
       "      <td>Negotiable</td>\n",
       "      <td>Moorabbin, VIC</td>\n",
       "    </tr>\n",
       "    <tr>\n",
       "      <th>8</th>\n",
       "      <td>Do you have an old Car or Truck that is taking...</td>\n",
       "      <td>$500</td>\n",
       "      <td>Ballarat Central, VIC</td>\n",
       "    </tr>\n",
       "    <tr>\n",
       "      <th>9</th>\n",
       "      <td>CAR FREE PICKUP</td>\n",
       "      <td>$500</td>\n",
       "      <td>Geelong, VIC</td>\n",
       "    </tr>\n",
       "  </tbody>\n",
       "</table>\n",
       "</div>"
      ],
      "text/plain": [
       "                                           car_title   car_price  \\\n",
       "0  2019 Nissan X-Trail T32 Series II ST X-tronic ...     $36,968   \n",
       "1  2017 Holden Commodore ZB MY18 RS Sportwagon Gr...     $27,967   \n",
       "2  2018 BMW 1 Series F20 LCI-2 118i Steptronic Sp...     $28,464   \n",
       "3  2020 Ford Ranger PX MkIII 2020.75MY Raptor Blu...     $40,968   \n",
       "4  2016 Toyota Yaris NCP130R Ascent Blue 4 Speed ...     $17,499   \n",
       "5  2019 Mazda 3 BP2H7A G20 SKYACTIV-Drive Touring...     $11,999   \n",
       "6  Perfect family car.  2016 VW Multivan tdi340 c...     $32,997   \n",
       "7                 Wanted: CASH FOR CARS: CARS WANTED  Negotiable   \n",
       "8  Do you have an old Car or Truck that is taking...        $500   \n",
       "9                                   CAR FREE PICKUP         $500   \n",
       "\n",
       "            car_location  \n",
       "0           Berwick, VIC  \n",
       "1        Mornington, VIC  \n",
       "2       Elsternwick, VIC  \n",
       "3    Ferntree Gully, VIC  \n",
       "4     South Geelong, VIC  \n",
       "5     South Geelong, VIC  \n",
       "6         Delacombe, VIC  \n",
       "7         Moorabbin, VIC  \n",
       "8  Ballarat Central, VIC  \n",
       "9           Geelong, VIC  "
      ]
     },
     "execution_count": 7,
     "metadata": {},
     "output_type": "execute_result"
    }
   ],
   "source": [
    "DF.head(10)"
   ]
  },
  {
   "cell_type": "code",
   "execution_count": null,
   "id": "63035217",
   "metadata": {},
   "outputs": [],
   "source": []
  }
 ],
 "metadata": {
  "kernelspec": {
   "display_name": "Python 3 (ipykernel)",
   "language": "python",
   "name": "python3"
  },
  "language_info": {
   "codemirror_mode": {
    "name": "ipython",
    "version": 3
   },
   "file_extension": ".py",
   "mimetype": "text/x-python",
   "name": "python",
   "nbconvert_exporter": "python",
   "pygments_lexer": "ipython3",
   "version": "3.9.7"
  }
 },
 "nbformat": 4,
 "nbformat_minor": 5
}
